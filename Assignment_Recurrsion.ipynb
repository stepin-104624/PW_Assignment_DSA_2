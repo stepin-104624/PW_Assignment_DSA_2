{
 "cells": [
  {
   "cell_type": "markdown",
   "id": "f57144ee",
   "metadata": {},
   "source": [
    "Q.1 Can you explain the logic and working of the Tower of Hanoi algorithm by writing a Java program?\n",
    "How does the recursion work, and how are the movements of disks between rods accomplished?"
   ]
  },
  {
   "cell_type": "raw",
   "id": "f0a0f032",
   "metadata": {},
   "source": [
    "public class TowerOfHanoi {\n",
    "\n",
    "    public static void moveDisks(int numberOfDisks, char fromRod, char toRod, char auxRod) {\n",
    "        if (numberOfDisks == 1) {\n",
    "            System.out.println(\"Move disk 1 from rod \" + fromRod + \" to rod \" + toRod);\n",
    "            return;\n",
    "        }\n",
    "        moveDisks(numberOfDisks - 1, fromRod, auxRod, toRod);\n",
    "        System.out.println(\"Move disk \" + numberOfDisks + \" from rod \" + fromRod + \" to rod \" + toRod);\n",
    "        moveDisks(numberOfDisks - 1, auxRod, toRod, fromRod);\n",
    "    }\n",
    "\n",
    "    public static void main(String[] args) {\n",
    "        int numberOfDisks = 3; // Change the number of disks here\n",
    "        char fromRod = 'A';\n",
    "        char toRod = 'C';\n",
    "        char auxRod = 'B';\n",
    "\n",
    "        moveDisks(numberOfDisks, fromRod, toRod, auxRod);\n",
    "    }\n",
    "}\n"
   ]
  },
  {
   "cell_type": "code",
   "execution_count": 2,
   "id": "957be89e",
   "metadata": {},
   "outputs": [
    {
     "name": "stdout",
     "output_type": "stream",
     "text": [
      "Move disk 1 from rod A to rod C\n",
      "Move disk 2 from rod A to rod B\n",
      "Move disk 1 from rod C to rod B\n",
      "Move disk 3 from rod A to rod C\n",
      "Move disk 1 from rod B to rod A\n",
      "Move disk 2 from rod B to rod C\n",
      "Move disk 1 from rod A to rod C\n"
     ]
    }
   ],
   "source": [
    "def move_disks(number_of_disks, from_rod, to_rod, aux_rod):\n",
    "    if number_of_disks == 1:\n",
    "        print(f\"Move disk 1 from rod {from_rod} to rod {to_rod}\")\n",
    "        return\n",
    "    move_disks(number_of_disks - 1, from_rod, aux_rod, to_rod)\n",
    "    print(f\"Move disk {number_of_disks} from rod {from_rod} to rod {to_rod}\")\n",
    "    move_disks(number_of_disks - 1, aux_rod, to_rod, from_rod)\n",
    "\n",
    "# Function call\n",
    "number_of_disks = 3  # Change the number of disks here\n",
    "from_rod = 'A'\n",
    "to_rod = 'C'\n",
    "aux_rod = 'B'\n",
    "\n",
    "move_disks(number_of_disks, from_rod, to_rod, aux_rod)\n"
   ]
  },
  {
   "cell_type": "markdown",
   "id": "c85fbfd4",
   "metadata": {},
   "source": [
    "Q.2 Given two strings word1 and word2, return the minimum number of operations required to convert word1\n",
    "to word2.\n",
    "Example 1:\n",
    "Input: word1 = \"horse\", word2 = \"ros\"\n",
    "Output: 3\n",
    "Explanation:\n",
    "horse -> rorse (replace 'h' with 'r')\n",
    "rorse -> rose (remove 'r')\n",
    "rose -> ros (remove 'e')\n",
    "Example 2:\n",
    "Input: word1 = \"intention\", word2 = \"execution\"\n",
    "Output: 5\n",
    "Explanation:\n",
    "intention -> inention (remove 't')\n",
    "inention -> enention (replace 'i' with 'e')\n",
    "enention -> exention (replace 'n' with 'x')\n",
    "exention -> exection (replace 'n' with 'c')\n",
    "exection -> execution (insert 'u')"
   ]
  },
  {
   "cell_type": "code",
   "execution_count": 3,
   "id": "bebfec92",
   "metadata": {},
   "outputs": [
    {
     "name": "stdout",
     "output_type": "stream",
     "text": [
      "3\n",
      "5\n"
     ]
    }
   ],
   "source": [
    "def min_distance(word1, word2):\n",
    "    len1 = len(word1)\n",
    "    len2 = len(word2)\n",
    "\n",
    "    # Create a DP matrix\n",
    "    dp = [[0] * (len2 + 1) for _ in range(len1 + 1)]\n",
    "\n",
    "    # Fill the DP matrix\n",
    "    for i in range(len1 + 1):\n",
    "        for j in range(len2 + 1):\n",
    "            if i == 0:\n",
    "                dp[i][j] = j  # If word1 is empty, only option is to insert all characters of word2\n",
    "            elif j == 0:\n",
    "                dp[i][j] = i  # If word2 is empty, only option is to remove all characters of word1\n",
    "            elif word1[i - 1] == word2[j - 1]:\n",
    "                dp[i][j] = dp[i - 1][j - 1]\n",
    "            else:\n",
    "                dp[i][j] = 1 + min(dp[i][j - 1],         # Insertion\n",
    "                                   dp[i - 1][j],         # Deletion\n",
    "                                   dp[i - 1][j - 1])    # Substitution\n",
    "\n",
    "    return dp[len1][len2]\n",
    "\n",
    "# Test cases\n",
    "word1_1 = \"horse\"\n",
    "word2_1 = \"ros\"\n",
    "print(min_distance(word1_1, word2_1))  # Output: 3\n",
    "\n",
    "word1_2 = \"intention\"\n",
    "word2_2 = \"execution\"\n",
    "print(min_distance(word1_2, word2_2))  # Output: 5\n"
   ]
  },
  {
   "cell_type": "markdown",
   "id": "868f3ac3",
   "metadata": {},
   "source": [
    "Q. 3 Print the max value of the array [ 13, 1, -3, 22, 5]."
   ]
  },
  {
   "cell_type": "code",
   "execution_count": 4,
   "id": "dcb492e0",
   "metadata": {},
   "outputs": [
    {
     "name": "stdout",
     "output_type": "stream",
     "text": [
      "The maximum value in the array is: 22\n"
     ]
    }
   ],
   "source": [
    "arr = [13, 1, -3, 22, 5]\n",
    "max_value = max(arr)\n",
    "print(\"The maximum value in the array is:\", max_value)\n"
   ]
  },
  {
   "cell_type": "markdown",
   "id": "3b067784",
   "metadata": {},
   "source": [
    "Q.4 Find the sum of the values of the array [92, 23, 15, -20, 10]."
   ]
  },
  {
   "cell_type": "code",
   "execution_count": 5,
   "id": "a9a6f432",
   "metadata": {},
   "outputs": [
    {
     "name": "stdout",
     "output_type": "stream",
     "text": [
      "The sum of values in the array is: 120\n"
     ]
    }
   ],
   "source": [
    "arr=[92,23,15,-20,10]\n",
    "sum_arr=sum(arr)\n",
    "print(\"The sum of values in the array is:\",sum_arr)"
   ]
  },
  {
   "cell_type": "markdown",
   "id": "286acdb5",
   "metadata": {},
   "source": [
    "Q.5 Given a number n. Print if it is an armstrong number or not.An armstrong number is a number if the sum\n",
    "of every digit in that number raised to the power of total digits in that number is equal to the number."
   ]
  },
  {
   "cell_type": "code",
   "execution_count": 6,
   "id": "9399ca24",
   "metadata": {},
   "outputs": [
    {
     "name": "stdout",
     "output_type": "stream",
     "text": [
      "153 is an Armstrong number.\n"
     ]
    }
   ],
   "source": [
    "def is_armstrong_number(n):\n",
    "    # Count the number of digits in n\n",
    "    num_digits = len(str(n))\n",
    "    \n",
    "    # Initialize sum\n",
    "    sum_of_digits = 0\n",
    "    temp = n\n",
    "    \n",
    "    while temp > 0:\n",
    "        digit = temp % 10\n",
    "        sum_of_digits += digit ** num_digits\n",
    "        temp //= 10\n",
    "\n",
    "    # Check if the number is Armstrong\n",
    "    if n == sum_of_digits:\n",
    "        return True\n",
    "    else:\n",
    "        return False\n",
    "\n",
    "# Test cases\n",
    "number = 153  # Change the number here to test different values\n",
    "result = is_armstrong_number(number)\n",
    "\n",
    "if result:\n",
    "    print(f\"{number} is an Armstrong number.\")\n",
    "else:\n",
    "    print(f\"{number} is not an Armstrong number.\")\n"
   ]
  },
  {
   "cell_type": "code",
   "execution_count": null,
   "id": "99e6e05b",
   "metadata": {},
   "outputs": [],
   "source": []
  }
 ],
 "metadata": {
  "kernelspec": {
   "display_name": "Python 3 (ipykernel)",
   "language": "python",
   "name": "python3"
  },
  "language_info": {
   "codemirror_mode": {
    "name": "ipython",
    "version": 3
   },
   "file_extension": ".py",
   "mimetype": "text/x-python",
   "name": "python",
   "nbconvert_exporter": "python",
   "pygments_lexer": "ipython3",
   "version": "3.10.9"
  }
 },
 "nbformat": 4,
 "nbformat_minor": 5
}
